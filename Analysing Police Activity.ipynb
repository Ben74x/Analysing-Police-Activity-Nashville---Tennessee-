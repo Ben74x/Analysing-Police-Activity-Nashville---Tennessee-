{
 "cells": [
  {
   "cell_type": "code",
   "execution_count": 1,
   "metadata": {},
   "outputs": [],
   "source": [
    "import pandas as pd\n",
    "import numpy as np\n",
    "import seaborn as sns\n",
    "import matplotlib.pyplot as plt\n",
    "import geopandas as gpd\n",
    "from shapely.geometry import Point, Polygon\n",
    "import plotly.express as px\n",
    "%matplotlib inline"
   ]
  },
  {
   "cell_type": "markdown",
   "metadata": {},
   "source": [
    "## LOADING DATA\n",
    "<p><span style=\\\"color:black; font-family: 'Bebas Neue'; font-size: 1.3em;\\\">A complete dataset of traffic stops by police officers in the United States that was collected by <a href= \"https://openpolicing.stanford.edu/data/\">The stanford open policing project</a>. They have collected data from 31 states and in this notebook I'll be focusing on the data from the state of Tennessee.</span></p>"
   ]
  },
  {
   "cell_type": "code",
   "execution_count": 2,
   "metadata": {},
   "outputs": [
    {
     "name": "stdout",
     "output_type": "stream",
     "text": [
      "  raw_row_number        date      time  \\\n",
      "0         232947  2010-10-10       NaN   \n",
      "1         237161  2010-10-10  10:00:00   \n",
      "2         232902  2010-10-10  10:00:00   \n",
      "3         233219  2010-10-10  22:00:00   \n",
      "4         232780  2010-10-10  01:00:00   \n",
      "\n",
      "                                            location        lat        lng  \\\n",
      "0  DOMINICAN DR & ROSA L PARKS BLVD, NASHVILLE, T...  36.187925 -86.798519   \n",
      "1            1122 LEBANON PIKE, NASHVILLE, TN, 37210  36.155521 -86.735902   \n",
      "2                       898 DAVIDSON DR, , TN, 37205  36.117420 -86.895593   \n",
      "3  MURFREESBORO PIKE & NASHBORO BLVD, ANTIOCH, TN...  36.086799 -86.648581   \n",
      "4                      BUCHANAN ST, NORTH, TN, 37208  36.180038 -86.809109   \n",
      "\n",
      "  precinct  reporting_area zone  subject_age  ... raw_traffic_citation_issued  \\\n",
      "0        6          4403.0  611         27.0  ...                       False   \n",
      "1        5          9035.0  513         18.0  ...                        True   \n",
      "2        1          5005.0  121         52.0  ...                       False   \n",
      "3        3          8891.0  325         25.0  ...                       False   \n",
      "4      NaN             NaN  NaN         21.0  ...                       False   \n",
      "\n",
      "  raw_misd_state_citation_issued raw_suspect_ethnicity raw_driver_searched  \\\n",
      "0                            NaN                     N               False   \n",
      "1                            NaN                     N               False   \n",
      "2                            NaN                     N               False   \n",
      "3                            NaN                     N               False   \n",
      "4                            NaN                     N                True   \n",
      "\n",
      "  raw_passenger_searched raw_search_consent raw_search_arrest  \\\n",
      "0                  False              False             False   \n",
      "1                  False              False             False   \n",
      "2                  False              False             False   \n",
      "3                  False              False             False   \n",
      "4                   True              False             False   \n",
      "\n",
      "  raw_search_warrant raw_search_inventory raw_search_plain_view  \n",
      "0              False                False                 False  \n",
      "1              False                False                 False  \n",
      "2              False                False                 False  \n",
      "3              False                False                 False  \n",
      "4              False                False                 False  \n",
      "\n",
      "[5 rows x 42 columns]\n",
      "raw_row_number                          0\n",
      "date                                    0\n",
      "time                                 5467\n",
      "location                                0\n",
      "lat                                187106\n",
      "lng                                187106\n",
      "precinct                           390222\n",
      "reporting_area                     332393\n",
      "zone                               390222\n",
      "subject_age                           839\n",
      "subject_race                         1850\n",
      "subject_sex                         12822\n",
      "officer_id_hash                        11\n",
      "type                                    0\n",
      "violation                            8020\n",
      "arrest_made                            28\n",
      "citation_issued                       320\n",
      "warning_issued                        337\n",
      "outcome                              1935\n",
      "contraband_found                  2964646\n",
      "contraband_drugs                  2964646\n",
      "contraband_weapons                2964646\n",
      "frisk_performed                        22\n",
      "search_conducted                       39\n",
      "search_person                          43\n",
      "search_vehicle                         41\n",
      "search_basis                      2964646\n",
      "reason_for_stop                      8020\n",
      "vehicle_registration_state          31791\n",
      "notes                             2579696\n",
      "raw_verbal_warning_issued             337\n",
      "raw_written_warning_issued         493091\n",
      "raw_traffic_citation_issued           321\n",
      "raw_misd_state_citation_issued     693814\n",
      "raw_suspect_ethnicity                  77\n",
      "raw_driver_searched                    30\n",
      "raw_passenger_searched                  9\n",
      "raw_search_consent                     21\n",
      "raw_search_arrest                      13\n",
      "raw_search_warrant                      0\n",
      "raw_search_inventory                    2\n",
      "raw_search_plain_view                   7\n",
      "dtype: int64\n"
     ]
    }
   ],
   "source": [
    "df = pd.read_csv(r\"C:/Users/bdwum/Downloads/tn_nashville_2020_04_01.csv\", low_memory=False)\n",
    "print(df.head())\n",
    "print(df.isnull().sum())"
   ]
  },
  {
   "cell_type": "markdown",
   "metadata": {},
   "source": [
    "## CLEANING DATA\n",
    "\n",
    "Often, a DataFrame will contain columns that are not useful to your analysis. Such columns should be dropped from the DataFrame, to make it easier for you to focus on the remaining columns. Also missing data and column types should be taken into account.\n",
    "\n",
    "In this notebook, I'll drop the columns containing large missing values because they contain no useful information and also check the column types"
   ]
  },
  {
   "cell_type": "code",
   "execution_count": 3,
   "metadata": {},
   "outputs": [
    {
     "name": "stdout",
     "output_type": "stream",
     "text": [
      "The dimentionality of the dataframe is:  (3092351, 42)\n",
      "Dimentionality after dropping columns:  (3092351, 34)\n"
     ]
    }
   ],
   "source": [
    "print(\"The dimentionality of the dataframe is: \", df.shape)\n",
    "df.drop([\"contraband_found\", \"contraband_drugs\", \"contraband_weapons\", \n",
    "         \"search_basis\", \"notes\", \"raw_misd_state_citation_issued\", \"raw_written_warning_issued\",\n",
    "         \"precinct\"], axis=\"columns\", inplace=True)\n",
    "print(\"Dimentionality after dropping columns: \", df.shape)"
   ]
  },
  {
   "cell_type": "code",
   "execution_count": 4,
   "metadata": {},
   "outputs": [
    {
     "name": "stdout",
     "output_type": "stream",
     "text": [
      "raw_row_number                 0\n",
      "date                           0\n",
      "time                           0\n",
      "location                       0\n",
      "lat                            0\n",
      "lng                            0\n",
      "reporting_area                 0\n",
      "zone                           0\n",
      "subject_age                    0\n",
      "subject_race                   0\n",
      "subject_sex                    0\n",
      "officer_id_hash                0\n",
      "type                           0\n",
      "violation                      0\n",
      "arrest_made                    0\n",
      "citation_issued                0\n",
      "warning_issued                 0\n",
      "outcome                        0\n",
      "frisk_performed                0\n",
      "search_conducted               0\n",
      "search_person                  0\n",
      "search_vehicle                 0\n",
      "reason_for_stop                0\n",
      "vehicle_registration_state     0\n",
      "raw_verbal_warning_issued      0\n",
      "raw_traffic_citation_issued    0\n",
      "raw_suspect_ethnicity          0\n",
      "raw_driver_searched            0\n",
      "raw_passenger_searched         0\n",
      "raw_search_consent             0\n",
      "raw_search_arrest              0\n",
      "raw_search_warrant             0\n",
      "raw_search_inventory           0\n",
      "raw_search_plain_view          0\n",
      "dtype: int64\n",
      "(2552374, 34)\n",
      "None\n"
     ]
    }
   ],
   "source": [
    "df = df.dropna()\n",
    "print(df.isnull().sum())\n",
    "print(print(df.shape))"
   ]
  },
  {
   "cell_type": "code",
   "execution_count": 5,
   "metadata": {},
   "outputs": [
    {
     "name": "stdout",
     "output_type": "stream",
     "text": [
      "raw_row_number                  object\n",
      "date                            object\n",
      "time                            object\n",
      "location                        object\n",
      "lat                            float64\n",
      "lng                            float64\n",
      "reporting_area                 float64\n",
      "zone                            object\n",
      "subject_age                    float64\n",
      "subject_race                    object\n",
      "subject_sex                     object\n",
      "officer_id_hash                 object\n",
      "type                            object\n",
      "violation                       object\n",
      "arrest_made                     object\n",
      "citation_issued                 object\n",
      "warning_issued                  object\n",
      "outcome                         object\n",
      "frisk_performed                 object\n",
      "search_conducted                object\n",
      "search_person                   object\n",
      "search_vehicle                  object\n",
      "reason_for_stop                 object\n",
      "vehicle_registration_state      object\n",
      "raw_verbal_warning_issued       object\n",
      "raw_traffic_citation_issued     object\n",
      "raw_suspect_ethnicity           object\n",
      "raw_driver_searched             object\n",
      "raw_passenger_searched          object\n",
      "raw_search_consent              object\n",
      "raw_search_arrest               object\n",
      "raw_search_warrant                bool\n",
      "raw_search_inventory            object\n",
      "raw_search_plain_view           object\n",
      "dtype: object\n"
     ]
    }
   ],
   "source": [
    "print(df.dtypes)"
   ]
  },
  {
   "cell_type": "code",
   "execution_count": 6,
   "metadata": {},
   "outputs": [
    {
     "name": "stdout",
     "output_type": "stream",
     "text": [
      "DatetimeIndex(['2010-10-10 10:00:00', '2010-10-10 10:00:00',\n",
      "               '2010-10-10 22:00:00', '2010-10-10 01:00:00',\n",
      "               '2010-10-10 10:04:00', '2010-10-10 10:05:00',\n",
      "               '2010-10-10 10:07:00', '2010-10-10 10:10:00',\n",
      "               '2010-10-10 22:11:00', '2010-10-10 10:13:00',\n",
      "               ...\n",
      "               '2016-09-09 09:54:00', '2016-09-09 09:54:00',\n",
      "               '2016-09-09 09:54:00', '2016-09-09 09:54:00',\n",
      "               '2016-09-09 09:54:00', '2016-09-09 09:54:00',\n",
      "               '2016-09-09 09:54:00', '2016-09-09 21:54:00',\n",
      "               '2016-09-09 09:56:00', '2016-09-09 09:56:00'],\n",
      "              dtype='datetime64[ns]', name='stop_datetime', length=2552374, freq=None)\n"
     ]
    }
   ],
   "source": [
    "df['raw_search_arrest'] = df.raw_search_arrest.astype('bool')\n",
    "df['raw_search_consent'] = df.raw_search_arrest.astype('bool')\n",
    "df['raw_verbal_warning_issued'] = df.raw_verbal_warning_issued.astype('bool')\n",
    "df['raw_driver_searched'] = df.raw_driver_searched.astype('bool')\n",
    "df['raw_search_warrant'] = df.raw_search_warrant.astype('bool')\n",
    "combined = df.date.str.cat(df.time, sep= \" \")\n",
    "df['stop_datetime'] = pd.to_datetime(combined)\n",
    "df.set_index('stop_datetime', inplace= True)\n",
    "print(df.index)"
   ]
  },
  {
   "cell_type": "markdown",
   "metadata": {},
   "source": [
    "## EXPLORING DATA\n",
    "\n",
    "###  Examing traffic violations\n",
    "Violations committed by all drivers"
   ]
  },
  {
   "cell_type": "code",
   "execution_count": 7,
   "metadata": {},
   "outputs": [
    {
     "name": "stdout",
     "output_type": "stream",
     "text": [
      "moving traffic violation       1239013\n",
      "vehicle equipment violation     853423\n",
      "safety violation                158294\n",
      "registration                    156706\n",
      "seatbelt violation               88838\n",
      "investigative stop               48214\n",
      "parking violation                 6920\n",
      "child restraint                    966\n",
      "Name: violation, dtype: int64\n"
     ]
    }
   ],
   "source": [
    "print(df.violation.value_counts())"
   ]
  },
  {
   "cell_type": "markdown",
   "metadata": {},
   "source": [
    "### Comparing violations by gender\n",
    "The question we're trying to answer is whether male and female drivers tend to commit different types of traffic violations."
   ]
  },
  {
   "cell_type": "code",
   "execution_count": 8,
   "metadata": {},
   "outputs": [
    {
     "name": "stdout",
     "output_type": "stream",
     "text": [
      " Female violations\n",
      " ----------------- \n",
      " moving traffic violation       0.492102\n",
      "vehicle equipment violation    0.336177\n",
      "registration                   0.062923\n",
      "safety violation               0.061658\n",
      "seatbelt violation             0.028063\n",
      "investigative stop             0.015842\n",
      "parking violation              0.002621\n",
      "child restraint                0.000615\n",
      "Name: violation, dtype: float64 \n",
      "\n",
      " Male violations\n",
      " --------------- \n",
      " moving traffic violation       0.480828\n",
      "vehicle equipment violation    0.333112\n",
      "safety violation               0.062267\n",
      "registration                   0.060341\n",
      "seatbelt violation             0.039466\n",
      "investigative stop             0.020996\n",
      "parking violation              0.002774\n",
      "child restraint                0.000215\n",
      "Name: violation, dtype: float64\n"
     ]
    }
   ],
   "source": [
    "# Create a Dataframe of female drivers\n",
    "female = df[df['subject_sex'] == 'female']\n",
    "\n",
    "# Create a Dataframe of male drivers\n",
    "male = df[df['subject_sex'] == 'male']\n",
    "\n",
    "# Compute the violations by female drivers (as proportions)\n",
    "print(\" Female violations\\n\", \"-\"*17, \"\\n\", female.violation.value_counts(normalize= True), \"\\n\")\n",
    "\n",
    "# Compute the violations by male drivers (as proportions)\n",
    "print(\" Male violations\\n\", \"-\"*15, \"\\n\",male.violation.value_counts(normalize= True))"
   ]
  },
  {
   "cell_type": "markdown",
   "metadata": {},
   "source": [
    "## Does gender affect who gets ticket for moving traffic?\n",
    "\n",
    "### Comparing moving traffic outcomes by gender\n",
    "When a driver is pulled over for moving traffic, many people believe that gender has an impact on whether the driver will receive a ticket or a warning. Let's find evidence of this in the dataset"
   ]
  },
  {
   "cell_type": "code",
   "execution_count": 9,
   "metadata": {},
   "outputs": [
    {
     "name": "stdout",
     "output_type": "stream",
     "text": [
      " Outcome for Females\n",
      " -------------------- \n",
      " warning     0.699823\n",
      "citation    0.290441\n",
      "arrest      0.009737\n",
      "Name: outcome, dtype: float64 \n",
      "\n",
      " Outcome for Males\n",
      " ------------------ \n",
      " warning     0.682509\n",
      "citation    0.298024\n",
      "arrest      0.019467\n",
      "Name: outcome, dtype: float64\n"
     ]
    },
    {
     "data": {
      "image/png": "[encoded data removed]",
      "text/plain": [
       "<Figure size 432x288 with 2 Axes>"
      ]
     },
     "metadata": {
      "needs_background": "light"
     },
     "output_type": "display_data"
    }
   ],
   "source": [
    "# Create a DataFrame of female drivers stopped for speeding\n",
    "female_and_mt = df[(df.subject_sex == 'female') & (df.violation == 'moving traffic violation')]\n",
    "\n",
    "# Create a DataFrame of male drivers stopped for speeding\n",
    "male_and_mt = df[(df.subject_sex == 'male') & (df.violation == 'moving traffic violation')]\n",
    "\n",
    "# Compute the stop outcomes for female drivers (as proportions)\n",
    "print(\" Outcome for Females\\n\", \"-\"*20, \"\\n\", female_and_mt.outcome.value_counts(normalize=True), \"\\n\")\n",
    "\n",
    "# Compute the stop outcomes for male drivers (as proportions)\n",
    "print(\" Outcome for Males\\n\", \"-\"*18, \"\\n\", male_and_mt.outcome.value_counts(normalize=True))\n",
    "\n",
    "# Plot graph\n",
    "fig, (ax1, ax2)= plt.subplots(2)\n",
    "ax1.bar(male_and_mt.outcome.unique(), male_and_mt.outcome.value_counts(normalize=True).sort_values())\n",
    "ax2.bar(female_and_mt.outcome.unique(), female_and_mt.outcome.value_counts(normalize=True).sort_values(), color='orange')\n",
    "ax1.set_title('Male drivers moving traffic violation')\n",
    "ax2.set_title('Female drivers moving traffic violation')\n",
    "ax1.set_ylabel('Count')\n",
    "ax2.set_ylabel('Count')\n",
    "ax2.set_xlabel('Outcome')\n",
    "plt.subplots_adjust(hspace=0.5)\n",
    "plt.show()"
   ]
  },
  {
   "cell_type": "markdown",
   "metadata": {},
   "source": [
    "The numbers are similar for males and females: about 70% of stops for moving traffic result in a warning. Thus, the data fails to show that gender has an impact on who gets a ticket for moving traffic"
   ]
  },
  {
   "cell_type": "markdown",
   "metadata": {},
   "source": [
    "## Does gender affect whose vehicle is searched?\n",
    "\n",
    "### Calculating the search rate\n",
    "During a traffic stop, the police officer sometimes conducts a search of the vehicle. Let's calculate the percentage of all stops that result in a vehicle search, also known as the search rate."
   ]
  },
  {
   "cell_type": "code",
   "execution_count": 10,
   "metadata": {},
   "outputs": [
    {
     "name": "stdout",
     "output_type": "stream",
     "text": [
      "object\n",
      "False    0.957896\n",
      "True     0.042104\n",
      "Name: search_conducted, dtype: float64\n",
      "Search Rate:  0.04210354752085705\n"
     ]
    }
   ],
   "source": [
    "# Check the data type of 'search_conducted'\n",
    "print(df.search_conducted.dtype)\n",
    "\n",
    "# Change data type of 'search_conducted'\n",
    "df['search_conducted'] = df.search_conducted.astype('bool')\n",
    "\n",
    "# Calculate the search rate by counting the values\n",
    "print(df.search_conducted.value_counts(normalize= True))\n",
    "\n",
    "# Calculate the search rate by taking the mean\n",
    "print(\"Search Rate: \", df.search_conducted.mean())"
   ]
  },
  {
   "cell_type": "markdown",
   "metadata": {},
   "source": [
    "The search rate is about 4%. Next, we'll examine whether the search rate varies by driver gender"
   ]
  },
  {
   "cell_type": "markdown",
   "metadata": {},
   "source": [
    "### Comparing search rates by gender"
   ]
  },
  {
   "cell_type": "code",
   "execution_count": 11,
   "metadata": {},
   "outputs": [
    {
     "name": "stdout",
     "output_type": "stream",
     "text": [
      "subject_sex\n",
      "female    0.023981\n",
      "male      0.054629\n",
      "Name: search_conducted, dtype: float64\n"
     ]
    },
    {
     "data": {
      "text/plain": [
       "<matplotlib.axes._subplots.AxesSubplot at 0x1cf226d42c8>"
      ]
     },
     "execution_count": 11,
     "metadata": {},
     "output_type": "execute_result"
    },
    {
     "data": {
      "image/png": "[encoded data removed]",
      "text/plain": [
       "<Figure size 432x288 with 1 Axes>"
      ]
     },
     "metadata": {
      "needs_background": "light"
     },
     "output_type": "display_data"
    }
   ],
   "source": [
    "# Calculate the search rate for both groups simultaneously\n",
    "print(df.groupby('subject_sex').search_conducted.mean())\n",
    "\n",
    "# Plot graph\n",
    "df.groupby('subject_sex').search_conducted.mean().plot(kind=\"bar\", title='Search Rate')"
   ]
  },
  {
   "cell_type": "markdown",
   "metadata": {},
   "source": [
    "Male drivers are searched more than twice as often as female drivers. Why might this be?\n",
    "Even though the search rate for males is much higher than for females, it's possible that the difference is mostly due to a second factor.\n",
    "\n",
    "For example, we might hypothesize that the search rate varies by violation type, and the difference in search rate between males and females is because they tend to commit different violations.\n",
    "\n",
    "We can test this hypothesis by examining the search rate for each combination of gender and violation. If the hypothesis is true, we would find that males and females are searched at about the same rate for each violation."
   ]
  },
  {
   "cell_type": "code",
   "execution_count": 12,
   "metadata": {},
   "outputs": [
    {
     "name": "stdout",
     "output_type": "stream",
     "text": [
      "violation                    subject_sex\n",
      "child restraint              female         0.034321\n",
      "                             male           0.061538\n",
      "investigative stop           female         0.096157\n",
      "                             male           0.188046\n",
      "moving traffic violation     female         0.020305\n",
      "                             male           0.047885\n",
      "parking violation            female         0.025604\n",
      "                             male           0.051123\n",
      "registration                 female         0.025459\n",
      "                             male           0.055891\n",
      "safety violation             female         0.023369\n",
      "                             male           0.049310\n",
      "seatbelt violation           female         0.032726\n",
      "                             male           0.062117\n",
      "vehicle equipment violation  female         0.025035\n",
      "                             male           0.055857\n",
      "Name: search_conducted, dtype: float64\n"
     ]
    }
   ],
   "source": [
    "# Reverse the ordering to group by violation before gender\n",
    "print(df.groupby(['violation', 'subject_sex']).search_conducted.mean())"
   ]
  },
  {
   "cell_type": "markdown",
   "metadata": {},
   "source": [
    "For all types of violations, the search rate is higher for males than for females, disproving our hypothesis."
   ]
  },
  {
   "cell_type": "markdown",
   "metadata": {},
   "source": [
    "## Does gender affect who is frisked during a search?\n",
    "\n",
    "### Calculating frisk performed rate"
   ]
  },
  {
   "cell_type": "code",
   "execution_count": 13,
   "metadata": {},
   "outputs": [
    {
     "name": "stdout",
     "output_type": "stream",
     "text": [
      "object\n",
      "False    0.979472\n",
      "True     0.020528\n",
      "Name: frisk_performed, dtype: float64\n",
      "Frisk performed rate: 0.02052794770672323\n"
     ]
    }
   ],
   "source": [
    "# Check the data type of 'frisk_performed'\n",
    "print(df.frisk_performed.dtype)\n",
    "\n",
    "# Change data type of 'frisk_performed'\n",
    "df['frisk_performed'] = df.frisk_performed.astype('bool')\n",
    "\n",
    "# Calculate the search rate by frisk_performed\n",
    "print(df.frisk_performed.value_counts(normalize= True))\n",
    "\n",
    "# Calculate the frisk performed rate by taking the mean\n",
    "print(\"Frisk performed rate:\", df.frisk_performed.mean())"
   ]
  },
  {
   "cell_type": "markdown",
   "metadata": {},
   "source": [
    "The frisk performed rate is about 2%. Next, we'll examine whether the search rate varies by driver gender"
   ]
  },
  {
   "cell_type": "markdown",
   "metadata": {},
   "source": [
    "### Comparing frisk rates by gender\n",
    "We'll compare the rates at which female and male drivers are frisked during a search. Are males frisked more often than females, perhaps because police officers consider them to be higher risk?"
   ]
  },
  {
   "cell_type": "code",
   "execution_count": 14,
   "metadata": {},
   "outputs": [
    {
     "name": "stdout",
     "output_type": "stream",
     "text": [
      "0.4875493188416586\n",
      "subject_sex\n",
      "female    0.368379\n",
      "male      0.523706\n",
      "Name: frisk_performed, dtype: float64\n"
     ]
    },
    {
     "data": {
      "text/plain": [
       "<matplotlib.axes._subplots.AxesSubplot at 0x1cf227786c8>"
      ]
     },
     "execution_count": 14,
     "metadata": {},
     "output_type": "execute_result"
    },
    {
     "data": {
      "image/png": "[encoded data removed]",
      "text/plain": [
       "<Figure size 432x288 with 1 Axes>"
      ]
     },
     "metadata": {
      "needs_background": "light"
     },
     "output_type": "display_data"
    }
   ],
   "source": [
    "# Create a DataFrame of stops in which a search was conducted\n",
    "searched = df[df.search_conducted == True]\n",
    "\n",
    "# Calculate the overall frisk rate by taking the mean of 'frisk'\n",
    "print(searched.frisk_performed.mean())\n",
    "\n",
    "# Calculate the frisk rate for each gender\n",
    "print(searched.groupby('subject_sex').frisk_performed.mean())\n",
    "\n",
    "# Plot graph\n",
    "searched.groupby('subject_sex').frisk_performed.mean().plot(kind='bar', title= 'Frisk Performed Rate')"
   ]
  },
  {
   "cell_type": "markdown",
   "metadata": {},
   "source": [
    "The frisk rate is higher for males than for females, though we can't conclude that this difference is caused by the driver's gender."
   ]
  },
  {
   "cell_type": "markdown",
   "metadata": {},
   "source": [
    "## Does time of the day affect arrest rate?\n",
    "\n",
    "### Calculating the hourly arrest rate\n",
    "When a police officer stops a driver, a small percentage of those stops ends in an arrest. This is known as the arrest rate. We'll find out whether the arrest rate varies by time of day."
   ]
  },
  {
   "cell_type": "code",
   "execution_count": 15,
   "metadata": {},
   "outputs": [
    {
     "name": "stdout",
     "output_type": "stream",
     "text": [
      "Overall arrest rate:  0.016666836443248522 \n",
      "\n",
      "Hourly arrest rate:  stop_datetime\n",
      "0     0.024691\n",
      "1     0.036695\n",
      "2     0.045419\n",
      "3     0.045874\n",
      "4     0.037727\n",
      "5     0.021702\n",
      "6     0.025035\n",
      "7     0.006993\n",
      "8     0.006900\n",
      "9     0.008389\n",
      "10    0.009259\n",
      "11    0.010960\n",
      "12    0.010153\n",
      "13    0.011417\n",
      "14    0.015551\n",
      "15    0.010269\n",
      "16    0.011630\n",
      "17    0.013955\n",
      "18    0.015006\n",
      "19    0.013743\n",
      "20    0.015407\n",
      "21    0.018258\n",
      "22    0.022306\n",
      "23    0.018641\n",
      "Name: arrest_made, dtype: float64\n"
     ]
    }
   ],
   "source": [
    "# Change arrest made data type\n",
    "df[\"arrest_made\"] = df.arrest_made.astype('bool')\n",
    "\n",
    "# Calculate the overall arrest rate\n",
    "print(\"Overall arrest rate: \", df.arrest_made.mean(), \"\\n\")\n",
    "\n",
    "# Calculate the hourly arrest rate\n",
    "print(\"Hourly arrest rate: \", df.groupby(df.index.hour).arrest_made.mean())\n",
    "\n",
    "# Save the hourly arrest rate\n",
    "hourly_arrest_rate = df.groupby(df.index.hour).arrest_made.mean()"
   ]
  },
  {
   "cell_type": "markdown",
   "metadata": {},
   "source": [
    "### Plotting the hourly arrest rate\n",
    "We'll create a line plot from the hourly_arrest_rate object. A line plot is appropriate in this case because we are showing how a quantity changes over time."
   ]
  },
  {
   "cell_type": "code",
   "execution_count": 16,
   "metadata": {},
   "outputs": [
    {
     "data": {
      "image/png": "[encoded data removed]",
      "text/plain": [
       "<Figure size 432x288 with 1 Axes>"
      ]
     },
     "metadata": {
      "needs_background": "light"
     },
     "output_type": "display_data"
    }
   ],
   "source": [
    "# Create a line plot of 'hourly_arrest_rate'\n",
    "hourly_arrest_rate.plot()\n",
    "\n",
    "# Add the xlabel, ylabel, and title\n",
    "plt.xlabel(\"Hour\")\n",
    "plt.ylabel(\"Arrest Rate\")\n",
    "plt.title(\"Arrest Rate by Time of Day\")\n",
    "\n",
    "# Display the plot\n",
    "plt.show()"
   ]
  },
  {
   "cell_type": "markdown",
   "metadata": {},
   "source": [
    "From the plot we can see that the arrest rate has a significant spike overnight, and then dips in the early morning hours."
   ]
  },
  {
   "cell_type": "markdown",
   "metadata": {},
   "source": [
    "### Comparing arrest rate by race\n",
    "We'll compare arrest rate by race and plot the results to see which race is mostly arrested on violations. But first, we have to see the number of traffic stops according to race in nashville"
   ]
  },
  {
   "cell_type": "code",
   "execution_count": 17,
   "metadata": {},
   "outputs": [
    {
     "data": {
      "text/plain": [
       "<matplotlib.axes._subplots.AxesSubplot at 0x1cf22856a08>"
      ]
     },
     "execution_count": 17,
     "metadata": {},
     "output_type": "execute_result"
    },
    {
     "data": {
      "image/png": "[encoded data removed]",
      "text/plain": [
       "<Figure size 432x288 with 1 Axes>"
      ]
     },
     "metadata": {
      "needs_background": "light"
     },
     "output_type": "display_data"
    }
   ],
   "source": [
    "# Calculate traffic stop by race\n",
    "race = df.subject_race.value_counts()\n",
    "\n",
    "race.plot(kind='bar', title='Traffic Stops By Race')"
   ]
  },
  {
   "cell_type": "markdown",
   "metadata": {},
   "source": [
    "We can see that whites are stopped more by the police followed by black people. Hispanics and Asians have a relatively low stop rate"
   ]
  },
  {
   "cell_type": "code",
   "execution_count": 18,
   "metadata": {
    "scrolled": true
   },
   "outputs": [
    {
     "name": "stdout",
     "output_type": "stream",
     "text": [
      "subject_race\n",
      "asian/pacific islander    0.007243\n",
      "black                     0.022875\n",
      "hispanic                  0.031937\n",
      "other                     0.009123\n",
      "unknown                   0.005531\n",
      "white                     0.011219\n",
      "Name: arrest_made, dtype: float64\n"
     ]
    },
    {
     "data": {
      "text/plain": [
       "<matplotlib.axes._subplots.AxesSubplot at 0x1cf228e2688>"
      ]
     },
     "execution_count": 18,
     "metadata": {},
     "output_type": "execute_result"
    },
    {
     "data": {
      "image/png": "[encoded data removed]",
      "text/plain": [
       "<Figure size 432x288 with 1 Axes>"
      ]
     },
     "metadata": {
      "needs_background": "light"
     },
     "output_type": "display_data"
    }
   ],
   "source": [
    "# Calculate arrest rate by race\n",
    "print(df.groupby('subject_race').arrest_made.mean())\n",
    "\n",
    "# Plot graph\n",
    "df.groupby('subject_race').arrest_made.mean().plot(kind='bar', title= 'Arrest Rate by race')"
   ]
  },
  {
   "cell_type": "markdown",
   "metadata": {},
   "source": [
    "Although hispanics have a low stop rate, they are the ones who are arrested the most by the police. Whites and Asian/Pacific Islanders have low rates while the rate of black people is also high."
   ]
  }
 ],
 "metadata": {
  "kernelspec": {
   "display_name": "Python 3",
   "language": "python",
   "name": "python3"
  },
  "language_info": {
   "codemirror_mode": {
    "name": "ipython",
    "version": 3
   },
   "file_extension": ".py",
   "mimetype": "text/x-python",
   "name": "python",
   "nbconvert_exporter": "python",
   "pygments_lexer": "ipython3",
   "version": "3.7.6"
  }
 },
 "nbformat": 4,
 "nbformat_minor": 4
}
